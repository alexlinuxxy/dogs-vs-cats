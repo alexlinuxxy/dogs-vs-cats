{
 "cells": [
  {
   "cell_type": "code",
   "execution_count": 1,
   "metadata": {
    "collapsed": true
   },
   "outputs": [],
   "source": [
    "import os\n",
    "import cv2\n",
    "import zipfile\n",
    "import sys\n",
    "import tensorflow as tf\n",
    "import numpy as np\n",
    "from PIL import Image"
   ]
  },
  {
   "cell_type": "code",
   "execution_count": 2,
   "metadata": {
    "collapsed": false
   },
   "outputs": [],
   "source": [
    "# def unzip_dataset(filepath):\n",
    "#     if not os.path.exists(filepath):\n",
    "#         print(\"%s not Found.\" % filepath)\n",
    "    \n",
    "#     dir = os.path.dirname(filepath)\n",
    "#     zf = zipfile.ZipFile(filepath, 'r')\n",
    "#     zf.exactall(dir, )\n",
    "\n",
    "# get filelist and labels\n",
    "def get_filelist(ds_dir):\n",
    "    filelist = []\n",
    "    labels = []\n",
    "    \n",
    "    if not os.path.exists(ds_dir):\n",
    "        print(\"%s not Found.\" % ds_dir)\n",
    "        return -1\n",
    "        \n",
    "    for root, subdirs, files in os.walk(ds_dir):\n",
    "        for filename in files:\n",
    "            filepath = os.path.join(root, filename)\n",
    "            filelist.append(filepath)\n",
    "            if filename.startswith(\"cat.\"):\n",
    "                labels.append(0)\n",
    "            else:\n",
    "                labels.append(1)\n",
    "    \n",
    "        # shuffle\n",
    "    tmp = np.array([filelist, labels])\n",
    "    tmp = tmp.transpose()\n",
    "    np.random.shuffle(tmp)\n",
    "    \n",
    "    filelist = list(tmp[:, 0])\n",
    "    labels = list(tmp[:, 1])\n",
    "    \n",
    "    return filelist, labels\n",
    "\n",
    "\n",
    "# convert dataset to tfrecord\n",
    "def bytes_feature(value):\n",
    "    return tf.train.Feature(bytes_list=tf.train.BytesList(value=[value]))\n",
    "\n",
    "\n",
    "def int64_feature(value):\n",
    "    return tf.train.Feature(int64_list=tf.train.Int64List(value=[value]))\n",
    "\n",
    "\n",
    "def create_example(image, label):\n",
    "    return tf.train.Example(features=tf.train.Features(feature={\n",
    "                \"image\": bytes_feature(image),\n",
    "                \"label\": int64_feature(label)\n",
    "            }))\n",
    "\n",
    "\n",
    "def tfrecord_pack(ds_dir, output_dir, output_name):\n",
    "    output = os.path.join(output_dir, output_name + \".tfrecord\")\n",
    "    filelist, labels = get_filelist(ds_dir)\n",
    "    nr_samples = len(labels)\n",
    "    writer = tf.python_io.TFRecordWriter(output)\n",
    "    \n",
    "    for i in range(nr_samples):\n",
    "        # resize image to (227, 227)\n",
    "        image = Image.open(filelist[i])\n",
    "        image = image.resize((224, 224))\n",
    "        image = image.tobytes()\n",
    "#         image = cv2.imread(filelist[i])\n",
    "#         image = image.resize(image, (227, 227))\n",
    "#         image = image.tostring()\n",
    "        example = create_example(image, int(labels[i]))\n",
    "        writer.write(example.SerializeToString())\n",
    "        sys.stdout.write(\"\\r>> Converting images to %s: %d/%d\" % (output, i, nr_samples))\n",
    "        sys.stdout.flush()\n",
    "        \n",
    "    print(\"\")"
   ]
  },
  {
   "cell_type": "code",
   "execution_count": 3,
   "metadata": {
    "collapsed": false
   },
   "outputs": [
    {
     "name": "stdout",
     "output_type": "stream",
     "text": [
      ">> Converting images to data\\train.tfrecord: 24999/25000\n"
     ]
    }
   ],
   "source": [
    "tfrecord_pack(\"data/train\", \"data\", \"train\")"
   ]
  },
  {
   "cell_type": "code",
   "execution_count": null,
   "metadata": {
    "collapsed": true
   },
   "outputs": [],
   "source": []
  }
 ],
 "metadata": {
  "anaconda-cloud": {},
  "kernelspec": {
   "display_name": "Python [default]",
   "language": "python",
   "name": "python3"
  },
  "language_info": {
   "codemirror_mode": {
    "name": "ipython",
    "version": 3
   },
   "file_extension": ".py",
   "mimetype": "text/x-python",
   "name": "python",
   "nbconvert_exporter": "python",
   "pygments_lexer": "ipython3",
   "version": "3.5.2"
  }
 },
 "nbformat": 4,
 "nbformat_minor": 1
}
